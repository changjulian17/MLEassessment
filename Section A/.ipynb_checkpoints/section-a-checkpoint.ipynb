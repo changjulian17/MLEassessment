{
 "cells": [
  {
   "cell_type": "markdown",
   "id": "e031f671",
   "metadata": {},
   "source": [
    "# DBS Associat MLE Assessment\n",
    "## Section A"
   ]
  },
  {
   "cell_type": "markdown",
   "id": "6d512c48",
   "metadata": {},
   "source": [
    "### Question 1\n",
    "#### (a) Formulate a hypothesis between x, y, f_xy"
   ]
  },
  {
   "cell_type": "code",
   "execution_count": 1,
   "id": "94494e9f",
   "metadata": {},
   "outputs": [],
   "source": [
    "import numpy as np\n",
    "import pandas as pd\n",
    "import matplotlib.pyplot as plt\n",
    "import seaborn as sns\n",
    "\n",
    "sns.set_theme()    #set seaborn format"
   ]
  },
  {
   "cell_type": "code",
   "execution_count": 2,
   "id": "5cf4eb5a",
   "metadata": {},
   "outputs": [],
   "source": [
    "# load data\n",
    "df = pd.read_csv('./data/section_a_question_1.csv')"
   ]
  },
  {
   "cell_type": "code",
   "execution_count": 3,
   "id": "0f6d857c",
   "metadata": {},
   "outputs": [
    {
     "data": {
      "text/html": [
       "<div>\n",
       "<style scoped>\n",
       "    .dataframe tbody tr th:only-of-type {\n",
       "        vertical-align: middle;\n",
       "    }\n",
       "\n",
       "    .dataframe tbody tr th {\n",
       "        vertical-align: top;\n",
       "    }\n",
       "\n",
       "    .dataframe thead th {\n",
       "        text-align: right;\n",
       "    }\n",
       "</style>\n",
       "<table border=\"1\" class=\"dataframe\">\n",
       "  <thead>\n",
       "    <tr style=\"text-align: right;\">\n",
       "      <th></th>\n",
       "      <th>x</th>\n",
       "      <th>y</th>\n",
       "      <th>f_xy</th>\n",
       "    </tr>\n",
       "  </thead>\n",
       "  <tbody>\n",
       "    <tr>\n",
       "      <th>48</th>\n",
       "      <td>0.522733</td>\n",
       "      <td>0.427541</td>\n",
       "      <td>0.621753</td>\n",
       "    </tr>\n",
       "    <tr>\n",
       "      <th>23</th>\n",
       "      <td>0.311711</td>\n",
       "      <td>0.520068</td>\n",
       "      <td>0.656929</td>\n",
       "    </tr>\n",
       "    <tr>\n",
       "      <th>34</th>\n",
       "      <td>0.074551</td>\n",
       "      <td>0.986887</td>\n",
       "      <td>0.071691</td>\n",
       "    </tr>\n",
       "    <tr>\n",
       "      <th>14</th>\n",
       "      <td>0.592415</td>\n",
       "      <td>0.046450</td>\n",
       "      <td>1.633664</td>\n",
       "    </tr>\n",
       "    <tr>\n",
       "      <th>9</th>\n",
       "      <td>0.431945</td>\n",
       "      <td>0.291229</td>\n",
       "      <td>1.023033</td>\n",
       "    </tr>\n",
       "    <tr>\n",
       "      <th>45</th>\n",
       "      <td>0.119594</td>\n",
       "      <td>0.713245</td>\n",
       "      <td>0.479477</td>\n",
       "    </tr>\n",
       "    <tr>\n",
       "      <th>12</th>\n",
       "      <td>0.456070</td>\n",
       "      <td>0.785176</td>\n",
       "      <td>0.156015</td>\n",
       "    </tr>\n",
       "    <tr>\n",
       "      <th>13</th>\n",
       "      <td>0.199674</td>\n",
       "      <td>0.514234</td>\n",
       "      <td>0.948290</td>\n",
       "    </tr>\n",
       "    <tr>\n",
       "      <th>28</th>\n",
       "      <td>0.088493</td>\n",
       "      <td>0.195983</td>\n",
       "      <td>3.191019</td>\n",
       "    </tr>\n",
       "    <tr>\n",
       "      <th>26</th>\n",
       "      <td>0.939499</td>\n",
       "      <td>0.894827</td>\n",
       "      <td>0.014130</td>\n",
       "    </tr>\n",
       "  </tbody>\n",
       "</table>\n",
       "</div>"
      ],
      "text/plain": [
       "           x         y      f_xy\n",
       "48  0.522733  0.427541  0.621753\n",
       "23  0.311711  0.520068  0.656929\n",
       "34  0.074551  0.986887  0.071691\n",
       "14  0.592415  0.046450  1.633664\n",
       "9   0.431945  0.291229  1.023033\n",
       "45  0.119594  0.713245  0.479477\n",
       "12  0.456070  0.785176  0.156015\n",
       "13  0.199674  0.514234  0.948290\n",
       "28  0.088493  0.195983  3.191019\n",
       "26  0.939499  0.894827  0.014130"
      ]
     },
     "execution_count": 3,
     "metadata": {},
     "output_type": "execute_result"
    }
   ],
   "source": [
    "# rough sample\n",
    "df.sample(10)"
   ]
  },
  {
   "cell_type": "code",
   "execution_count": 4,
   "id": "bf7386b6",
   "metadata": {},
   "outputs": [
    {
     "data": {
      "text/plain": [
       "(50, 3)"
      ]
     },
     "execution_count": 4,
     "metadata": {},
     "output_type": "execute_result"
    }
   ],
   "source": [
    "df.shape"
   ]
  },
  {
   "cell_type": "markdown",
   "id": "5c8904bf",
   "metadata": {},
   "source": [
    "There are 50 data points with 3 columns.\n",
    "\n",
    "\n",
    "In the sample \n",
    "\n",
    "    0 <   `x`    < 1,    $\\bar{x}$ = 0.441\n",
    "    \n",
    "    0 <   `y`    < 1,    $\\bar{y}$ = 0.500\n",
    "\n",
    "    0 < `f(x,y)` < 6,    f(x,y)ave = 0.944\n",
    "\n",
    "\n"
   ]
  },
  {
   "cell_type": "code",
   "execution_count": 6,
   "id": "e59f4736",
   "metadata": {},
   "outputs": [
    {
     "data": {
      "text/html": [
       "<div>\n",
       "<style scoped>\n",
       "    .dataframe tbody tr th:only-of-type {\n",
       "        vertical-align: middle;\n",
       "    }\n",
       "\n",
       "    .dataframe tbody tr th {\n",
       "        vertical-align: top;\n",
       "    }\n",
       "\n",
       "    .dataframe thead th {\n",
       "        text-align: right;\n",
       "    }\n",
       "</style>\n",
       "<table border=\"1\" class=\"dataframe\">\n",
       "  <thead>\n",
       "    <tr style=\"text-align: right;\">\n",
       "      <th></th>\n",
       "      <th>x</th>\n",
       "      <th>y</th>\n",
       "      <th>f_xy</th>\n",
       "    </tr>\n",
       "  </thead>\n",
       "  <tbody>\n",
       "    <tr>\n",
       "      <th>count</th>\n",
       "      <td>50.000000</td>\n",
       "      <td>50.000000</td>\n",
       "      <td>50.000000</td>\n",
       "    </tr>\n",
       "    <tr>\n",
       "      <th>mean</th>\n",
       "      <td>0.440717</td>\n",
       "      <td>0.499645</td>\n",
       "      <td>0.944342</td>\n",
       "    </tr>\n",
       "    <tr>\n",
       "      <th>std</th>\n",
       "      <td>0.301266</td>\n",
       "      <td>0.293723</td>\n",
       "      <td>1.055559</td>\n",
       "    </tr>\n",
       "    <tr>\n",
       "      <th>min</th>\n",
       "      <td>0.005522</td>\n",
       "      <td>0.046450</td>\n",
       "      <td>0.014130</td>\n",
       "    </tr>\n",
       "    <tr>\n",
       "      <th>25%</th>\n",
       "      <td>0.162470</td>\n",
       "      <td>0.202122</td>\n",
       "      <td>0.228495</td>\n",
       "    </tr>\n",
       "    <tr>\n",
       "      <th>50%</th>\n",
       "      <td>0.381609</td>\n",
       "      <td>0.504706</td>\n",
       "      <td>0.570853</td>\n",
       "    </tr>\n",
       "    <tr>\n",
       "      <th>75%</th>\n",
       "      <td>0.723919</td>\n",
       "      <td>0.763601</td>\n",
       "      <td>1.189915</td>\n",
       "    </tr>\n",
       "    <tr>\n",
       "      <th>max</th>\n",
       "      <td>0.969585</td>\n",
       "      <td>0.986887</td>\n",
       "      <td>5.134299</td>\n",
       "    </tr>\n",
       "  </tbody>\n",
       "</table>\n",
       "</div>"
      ],
      "text/plain": [
       "               x          y       f_xy\n",
       "count  50.000000  50.000000  50.000000\n",
       "mean    0.440717   0.499645   0.944342\n",
       "std     0.301266   0.293723   1.055559\n",
       "min     0.005522   0.046450   0.014130\n",
       "25%     0.162470   0.202122   0.228495\n",
       "50%     0.381609   0.504706   0.570853\n",
       "75%     0.723919   0.763601   1.189915\n",
       "max     0.969585   0.986887   5.134299"
      ]
     },
     "execution_count": 6,
     "metadata": {},
     "output_type": "execute_result"
    }
   ],
   "source": [
    "df.describe()"
   ]
  },
  {
   "cell_type": "code",
   "execution_count": 7,
   "id": "cc1b0bc3",
   "metadata": {
    "scrolled": false
   },
   "outputs": [
    {
     "data": {
      "text/plain": [
       "Text(0.5, 1.0, 'f_xy distribution')"
      ]
     },
     "execution_count": 7,
     "metadata": {},
     "output_type": "execute_result"
    },
    {
     "data": {
      "image/png": "[encoded data removed]",
      "text/plain": [
       "<Figure size 1500x500 with 3 Axes>"
      ]
     },
     "metadata": {},
     "output_type": "display_data"
    }
   ],
   "source": [
    "fig, axes = plt.subplots(1, 3, figsize=(15, 5))\n",
    "\n",
    "\n",
    "sns.histplot(df['x'],ax=axes[0])\n",
    "axes[0].set_title('x distribution')\n",
    "sns.histplot(df['y'],ax=axes[1])\n",
    "axes[1].set_title('y distribution')\n",
    "sns.histplot(df['f_xy'],ax=axes[2])\n",
    "axes[2].set_title('f_xy distribution')"
   ]
  },
  {
   "cell_type": "markdown",
   "id": "3f7b8183",
   "metadata": {},
   "source": [
    "There is slight imbalance to X with more data points near 0. Also more data points of f_xy near 0 too. There may be some 'pull' of f_xy on x and y. Use a scatterplot to better visualise"
   ]
  },
  {
   "cell_type": "code",
   "execution_count": 8,
   "id": "52b545ba",
   "metadata": {
    "scrolled": true
   },
   "outputs": [
    {
     "data": {
      "image/png": "[encoded data removed]",
      "text/plain": [
       "<Figure size 640x480 with 1 Axes>"
      ]
     },
     "metadata": {},
     "output_type": "display_data"
    }
   ],
   "source": [
    "sns.scatterplot(x='x', y='y', data=df, hue='f_xy');"
   ]
  },
  {
   "cell_type": "markdown",
   "id": "20051db1",
   "metadata": {},
   "source": [
    "Using intuition about the resultant f_xy tending to 0 and also the radial gradient of f_xy, I will estimate that f_xy is proportionate to its distance to 0 on the x-y dimension. We will use distance equation "
   ]
  },
  {
   "cell_type": "code",
   "execution_count": 9,
   "id": "ff2ae3e7",
   "metadata": {
    "scrolled": true
   },
   "outputs": [],
   "source": [
    "df['hyp'] = df.x**2 + df.y**2\n",
    "df['hyp'] = np.sqrt(df['hyp'])"
   ]
  },
  {
   "cell_type": "code",
   "execution_count": 10,
   "id": "edfbbcca",
   "metadata": {
    "scrolled": true
   },
   "outputs": [
    {
     "data": {
      "text/html": [
       "<div>\n",
       "<style scoped>\n",
       "    .dataframe tbody tr th:only-of-type {\n",
       "        vertical-align: middle;\n",
       "    }\n",
       "\n",
       "    .dataframe tbody tr th {\n",
       "        vertical-align: top;\n",
       "    }\n",
       "\n",
       "    .dataframe thead th {\n",
       "        text-align: right;\n",
       "    }\n",
       "</style>\n",
       "<table border=\"1\" class=\"dataframe\">\n",
       "  <thead>\n",
       "    <tr style=\"text-align: right;\">\n",
       "      <th></th>\n",
       "      <th>x</th>\n",
       "      <th>y</th>\n",
       "      <th>f_xy</th>\n",
       "      <th>hyp</th>\n",
       "      <th>f_diff</th>\n",
       "      <th>h_diff</th>\n",
       "    </tr>\n",
       "  </thead>\n",
       "  <tbody>\n",
       "    <tr>\n",
       "      <th>0</th>\n",
       "      <td>0.374540</td>\n",
       "      <td>0.950714</td>\n",
       "      <td>0.157131</td>\n",
       "      <td>1.021831</td>\n",
       "      <td>NaN</td>\n",
       "      <td>NaN</td>\n",
       "    </tr>\n",
       "    <tr>\n",
       "      <th>1</th>\n",
       "      <td>0.731994</td>\n",
       "      <td>0.598658</td>\n",
       "      <td>0.171344</td>\n",
       "      <td>0.945625</td>\n",
       "      <td>0.014213</td>\n",
       "      <td>-0.076205</td>\n",
       "    </tr>\n",
       "    <tr>\n",
       "      <th>2</th>\n",
       "      <td>0.156019</td>\n",
       "      <td>0.155995</td>\n",
       "      <td>3.129805</td>\n",
       "      <td>0.220627</td>\n",
       "      <td>2.958461</td>\n",
       "      <td>-0.724999</td>\n",
       "    </tr>\n",
       "    <tr>\n",
       "      <th>3</th>\n",
       "      <td>0.058084</td>\n",
       "      <td>0.866176</td>\n",
       "      <td>0.204051</td>\n",
       "      <td>0.868121</td>\n",
       "      <td>-2.925754</td>\n",
       "      <td>0.647495</td>\n",
       "    </tr>\n",
       "    <tr>\n",
       "      <th>4</th>\n",
       "      <td>0.601115</td>\n",
       "      <td>0.708073</td>\n",
       "      <td>0.169634</td>\n",
       "      <td>0.928820</td>\n",
       "      <td>-0.034416</td>\n",
       "      <td>0.060698</td>\n",
       "    </tr>\n",
       "  </tbody>\n",
       "</table>\n",
       "</div>"
      ],
      "text/plain": [
       "          x         y      f_xy       hyp    f_diff    h_diff\n",
       "0  0.374540  0.950714  0.157131  1.021831       NaN       NaN\n",
       "1  0.731994  0.598658  0.171344  0.945625  0.014213 -0.076205\n",
       "2  0.156019  0.155995  3.129805  0.220627  2.958461 -0.724999\n",
       "3  0.058084  0.866176  0.204051  0.868121 -2.925754  0.647495\n",
       "4  0.601115  0.708073  0.169634  0.928820 -0.034416  0.060698"
      ]
     },
     "execution_count": 10,
     "metadata": {},
     "output_type": "execute_result"
    }
   ],
   "source": [
    "pd.concat(    # displaying the difference in values\n",
    "    [df,\n",
    "     df[['f_xy','hyp']].diff().rename(columns={'f_xy':'f_diff','hyp':'h_diff'})\n",
    "    ], axis=1\n",
    ").head()"
   ]
  },
  {
   "cell_type": "markdown",
   "id": "83236910",
   "metadata": {},
   "source": [
    "`hyp` have similar patterns to `f_xy`\n",
    "- Taking index 0, 1 we can see that values are *close* to each other \n",
    "- Taking index 1, 2 we can see that is *far* apart relative to 0, 1\n",
    "\n",
    "\n",
    "However,\n",
    "- from index 0, 1 and 1, 2 `f_xy` is increasing but hyp is *decreasing*\n",
    "\n",
    "\n",
    "Due to this difference, we will assume an inverse relationship "
   ]
  },
  {
   "cell_type": "code",
   "execution_count": 13,
   "id": "fb695cee",
   "metadata": {},
   "outputs": [
    {
     "data": {
      "text/html": [
       "<div>\n",
       "<style scoped>\n",
       "    .dataframe tbody tr th:only-of-type {\n",
       "        vertical-align: middle;\n",
       "    }\n",
       "\n",
       "    .dataframe tbody tr th {\n",
       "        vertical-align: top;\n",
       "    }\n",
       "\n",
       "    .dataframe thead th {\n",
       "        text-align: right;\n",
       "    }\n",
       "</style>\n",
       "<table border=\"1\" class=\"dataframe\">\n",
       "  <thead>\n",
       "    <tr style=\"text-align: right;\">\n",
       "      <th></th>\n",
       "      <th>x</th>\n",
       "      <th>y</th>\n",
       "      <th>f_xy</th>\n",
       "      <th>hyp</th>\n",
       "    </tr>\n",
       "  </thead>\n",
       "  <tbody>\n",
       "    <tr>\n",
       "      <th>0</th>\n",
       "      <td>0.374540</td>\n",
       "      <td>0.950714</td>\n",
       "      <td>0.157131</td>\n",
       "      <td>1.021831</td>\n",
       "    </tr>\n",
       "    <tr>\n",
       "      <th>1</th>\n",
       "      <td>0.731994</td>\n",
       "      <td>0.598658</td>\n",
       "      <td>0.171344</td>\n",
       "      <td>0.945625</td>\n",
       "    </tr>\n",
       "    <tr>\n",
       "      <th>2</th>\n",
       "      <td>0.156019</td>\n",
       "      <td>0.155995</td>\n",
       "      <td>3.129805</td>\n",
       "      <td>0.220627</td>\n",
       "    </tr>\n",
       "    <tr>\n",
       "      <th>3</th>\n",
       "      <td>0.058084</td>\n",
       "      <td>0.866176</td>\n",
       "      <td>0.204051</td>\n",
       "      <td>0.868121</td>\n",
       "    </tr>\n",
       "    <tr>\n",
       "      <th>4</th>\n",
       "      <td>0.601115</td>\n",
       "      <td>0.708073</td>\n",
       "      <td>0.169634</td>\n",
       "      <td>0.928820</td>\n",
       "    </tr>\n",
       "  </tbody>\n",
       "</table>\n",
       "</div>"
      ],
      "text/plain": [
       "          x         y      f_xy       hyp\n",
       "0  0.374540  0.950714  0.157131  1.021831\n",
       "1  0.731994  0.598658  0.171344  0.945625\n",
       "2  0.156019  0.155995  3.129805  0.220627\n",
       "3  0.058084  0.866176  0.204051  0.868121\n",
       "4  0.601115  0.708073  0.169634  0.928820"
      ]
     },
     "execution_count": 13,
     "metadata": {},
     "output_type": "execute_result"
    }
   ],
   "source": [
    "df['hyp'] = 1/df['hyp']\n",
    "df.head()"
   ]
  },
  {
   "cell_type": "code",
   "execution_count": 14,
   "id": "defaa15c",
   "metadata": {
    "scrolled": true
   },
   "outputs": [
    {
     "data": {
      "image/png": "[encoded data removed]",
      "text/plain": [
       "<Figure size 640x480 with 1 Axes>"
      ]
     },
     "metadata": {},
     "output_type": "display_data"
    }
   ],
   "source": [
    "sns.scatterplot(x='x', y='y', data=df, hue='hyp');"
   ]
  },
  {
   "cell_type": "markdown",
   "id": "87f6a6a2",
   "metadata": {},
   "source": [
    "Made a plot below as a sanity check. `hyp` and `f_xy` now look to have a closer relationship. There may be some bias or scaling involved. So I will assume the function below as my hypothesis\n",
    "\n",
    "\n",
    "f_xy proportionate to 1/sqrt(x^2+y^2)\n",
    "\n",
    "\n",
    "i.e. f_xy = a/sqrt(x^2+y^2) + b\n",
    "\n",
    "\n",
    "#### (b) Justify your choice of function and provide best guess for unknown params\n",
    "In this case we will use OLS using above hypothesis and check R, F score and take the estimate for a and b.\n",
    "\n",
    "\n",
    "Intuition is that since datapoints are centering around origin, there is no transform away from origin and b = 0. We can test this first."
   ]
  },
  {
   "cell_type": "code",
   "execution_count": 15,
   "id": "9b73f9cc",
   "metadata": {},
   "outputs": [
    {
     "data": {
      "text/html": [
       "<table class=\"simpletable\">\n",
       "<caption>OLS Regression Results</caption>\n",
       "<tr>\n",
       "  <th>Dep. Variable:</th>          <td>f_xy</td>       <th>  R-squared (uncentered):</th>      <td>   0.921</td>\n",
       "</tr>\n",
       "<tr>\n",
       "  <th>Model:</th>                   <td>OLS</td>       <th>  Adj. R-squared (uncentered):</th> <td>   0.919</td>\n",
       "</tr>\n",
       "<tr>\n",
       "  <th>Method:</th>             <td>Least Squares</td>  <th>  F-statistic:       </th>          <td>   568.3</td>\n",
       "</tr>\n",
       "<tr>\n",
       "  <th>Date:</th>             <td>Fri, 05 Apr 2024</td> <th>  Prob (F-statistic):</th>          <td>1.30e-28</td>\n",
       "</tr>\n",
       "<tr>\n",
       "  <th>Time:</th>                 <td>08:14:47</td>     <th>  Log-Likelihood:    </th>          <td> -24.734</td>\n",
       "</tr>\n",
       "<tr>\n",
       "  <th>No. Observations:</th>      <td>    50</td>      <th>  AIC:               </th>          <td>   51.47</td>\n",
       "</tr>\n",
       "<tr>\n",
       "  <th>Df Residuals:</th>          <td>    49</td>      <th>  BIC:               </th>          <td>   53.38</td>\n",
       "</tr>\n",
       "<tr>\n",
       "  <th>Df Model:</th>              <td>     1</td>      <th>                     </th>              <td> </td>   \n",
       "</tr>\n",
       "<tr>\n",
       "  <th>Covariance Type:</th>      <td>nonrobust</td>    <th>                     </th>              <td> </td>   \n",
       "</tr>\n",
       "</table>\n",
       "<table class=\"simpletable\">\n",
       "<tr>\n",
       "   <td></td>     <th>coef</th>     <th>std err</th>      <th>t</th>      <th>P>|t|</th>  <th>[0.025</th>    <th>0.975]</th>  \n",
       "</tr>\n",
       "<tr>\n",
       "  <th>x1</th> <td>    0.6011</td> <td>    0.025</td> <td>   23.838</td> <td> 0.000</td> <td>    0.550</td> <td>    0.652</td>\n",
       "</tr>\n",
       "</table>\n",
       "<table class=\"simpletable\">\n",
       "<tr>\n",
       "  <th>Omnibus:</th>       <td> 9.696</td> <th>  Durbin-Watson:     </th> <td>   1.734</td>\n",
       "</tr>\n",
       "<tr>\n",
       "  <th>Prob(Omnibus):</th> <td> 0.008</td> <th>  Jarque-Bera (JB):  </th> <td>   9.922</td>\n",
       "</tr>\n",
       "<tr>\n",
       "  <th>Skew:</th>          <td> 1.087</td> <th>  Prob(JB):          </th> <td> 0.00701</td>\n",
       "</tr>\n",
       "<tr>\n",
       "  <th>Kurtosis:</th>      <td> 3.199</td> <th>  Cond. No.          </th> <td>    1.00</td>\n",
       "</tr>\n",
       "</table><br/><br/>Notes:<br/>[1] R² is computed without centering (uncentered) since the model does not contain a constant.<br/>[2] Standard Errors assume that the covariance matrix of the errors is correctly specified."
      ],
      "text/plain": [
       "<class 'statsmodels.iolib.summary.Summary'>\n",
       "\"\"\"\n",
       "                                 OLS Regression Results                                \n",
       "=======================================================================================\n",
       "Dep. Variable:                   f_xy   R-squared (uncentered):                   0.921\n",
       "Model:                            OLS   Adj. R-squared (uncentered):              0.919\n",
       "Method:                 Least Squares   F-statistic:                              568.3\n",
       "Date:                Fri, 05 Apr 2024   Prob (F-statistic):                    1.30e-28\n",
       "Time:                        08:14:47   Log-Likelihood:                         -24.734\n",
       "No. Observations:                  50   AIC:                                      51.47\n",
       "Df Residuals:                      49   BIC:                                      53.38\n",
       "Df Model:                           1                                                  \n",
       "Covariance Type:            nonrobust                                                  \n",
       "==============================================================================\n",
       "                 coef    std err          t      P>|t|      [0.025      0.975]\n",
       "------------------------------------------------------------------------------\n",
       "x1             0.6011      0.025     23.838      0.000       0.550       0.652\n",
       "==============================================================================\n",
       "Omnibus:                        9.696   Durbin-Watson:                   1.734\n",
       "Prob(Omnibus):                  0.008   Jarque-Bera (JB):                9.922\n",
       "Skew:                           1.087   Prob(JB):                      0.00701\n",
       "Kurtosis:                       3.199   Cond. No.                         1.00\n",
       "==============================================================================\n",
       "\n",
       "Notes:\n",
       "[1] R² is computed without centering (uncentered) since the model does not contain a constant.\n",
       "[2] Standard Errors assume that the covariance matrix of the errors is correctly specified.\n",
       "\"\"\""
      ]
     },
     "execution_count": 15,
     "metadata": {},
     "output_type": "execute_result"
    }
   ],
   "source": [
    "import statsmodels.api as sm\n",
    "\n",
    "#prepare x variable as 1/sqrt(x^2+y^2)\n",
    "x = 1/np.sqrt(df.x**2+df.y**2)\n",
    "y = df.f_xy\n",
    "\n",
    "result = sm.OLS(y, x).fit()\n",
    "\n",
    "result.summary()"
   ]
  },
  {
   "cell_type": "markdown",
   "id": "4587cff6",
   "metadata": {},
   "source": [
    "R is more than 90% which is a good sign. F statistic is large indicating a significance of this relationship. We also test if b has a possible value in regression nbelow"
   ]
  },
  {
   "cell_type": "code",
   "execution_count": 16,
   "id": "b6339284",
   "metadata": {},
   "outputs": [
    {
     "data": {
      "text/html": [
       "<table class=\"simpletable\">\n",
       "<caption>OLS Regression Results</caption>\n",
       "<tr>\n",
       "  <th>Dep. Variable:</th>          <td>f_xy</td>       <th>  R-squared:         </th> <td>   0.897</td>\n",
       "</tr>\n",
       "<tr>\n",
       "  <th>Model:</th>                   <td>OLS</td>       <th>  Adj. R-squared:    </th> <td>   0.895</td>\n",
       "</tr>\n",
       "<tr>\n",
       "  <th>Method:</th>             <td>Least Squares</td>  <th>  F-statistic:       </th> <td>   417.6</td>\n",
       "</tr>\n",
       "<tr>\n",
       "  <th>Date:</th>             <td>Fri, 05 Apr 2024</td> <th>  Prob (F-statistic):</th> <td>2.51e-25</td>\n",
       "</tr>\n",
       "<tr>\n",
       "  <th>Time:</th>                 <td>08:14:53</td>     <th>  Log-Likelihood:    </th> <td> -16.343</td>\n",
       "</tr>\n",
       "<tr>\n",
       "  <th>No. Observations:</th>      <td>    50</td>      <th>  AIC:               </th> <td>   36.69</td>\n",
       "</tr>\n",
       "<tr>\n",
       "  <th>Df Residuals:</th>          <td>    48</td>      <th>  BIC:               </th> <td>   40.51</td>\n",
       "</tr>\n",
       "<tr>\n",
       "  <th>Df Model:</th>              <td>     1</td>      <th>                     </th>     <td> </td>   \n",
       "</tr>\n",
       "<tr>\n",
       "  <th>Covariance Type:</th>      <td>nonrobust</td>    <th>                     </th>     <td> </td>   \n",
       "</tr>\n",
       "</table>\n",
       "<table class=\"simpletable\">\n",
       "<tr>\n",
       "    <td></td>       <th>coef</th>     <th>std err</th>      <th>t</th>      <th>P>|t|</th>  <th>[0.025</th>    <th>0.975]</th>  \n",
       "</tr>\n",
       "<tr>\n",
       "  <th>const</th> <td>   -0.3486</td> <td>    0.080</td> <td>   -4.376</td> <td> 0.000</td> <td>   -0.509</td> <td>   -0.188</td>\n",
       "</tr>\n",
       "<tr>\n",
       "  <th>0</th>     <td>    0.7242</td> <td>    0.035</td> <td>   20.435</td> <td> 0.000</td> <td>    0.653</td> <td>    0.795</td>\n",
       "</tr>\n",
       "</table>\n",
       "<table class=\"simpletable\">\n",
       "<tr>\n",
       "  <th>Omnibus:</th>       <td> 6.115</td> <th>  Durbin-Watson:     </th> <td>   1.658</td>\n",
       "</tr>\n",
       "<tr>\n",
       "  <th>Prob(Omnibus):</th> <td> 0.047</td> <th>  Jarque-Bera (JB):  </th> <td>   6.578</td>\n",
       "</tr>\n",
       "<tr>\n",
       "  <th>Skew:</th>          <td> 0.405</td> <th>  Prob(JB):          </th> <td>  0.0373</td>\n",
       "</tr>\n",
       "<tr>\n",
       "  <th>Kurtosis:</th>      <td> 4.582</td> <th>  Cond. No.          </th> <td>    4.19</td>\n",
       "</tr>\n",
       "</table><br/><br/>Notes:<br/>[1] Standard Errors assume that the covariance matrix of the errors is correctly specified."
      ],
      "text/plain": [
       "<class 'statsmodels.iolib.summary.Summary'>\n",
       "\"\"\"\n",
       "                            OLS Regression Results                            \n",
       "==============================================================================\n",
       "Dep. Variable:                   f_xy   R-squared:                       0.897\n",
       "Model:                            OLS   Adj. R-squared:                  0.895\n",
       "Method:                 Least Squares   F-statistic:                     417.6\n",
       "Date:                Fri, 05 Apr 2024   Prob (F-statistic):           2.51e-25\n",
       "Time:                        08:14:53   Log-Likelihood:                -16.343\n",
       "No. Observations:                  50   AIC:                             36.69\n",
       "Df Residuals:                      48   BIC:                             40.51\n",
       "Df Model:                           1                                         \n",
       "Covariance Type:            nonrobust                                         \n",
       "==============================================================================\n",
       "                 coef    std err          t      P>|t|      [0.025      0.975]\n",
       "------------------------------------------------------------------------------\n",
       "const         -0.3486      0.080     -4.376      0.000      -0.509      -0.188\n",
       "0              0.7242      0.035     20.435      0.000       0.653       0.795\n",
       "==============================================================================\n",
       "Omnibus:                        6.115   Durbin-Watson:                   1.658\n",
       "Prob(Omnibus):                  0.047   Jarque-Bera (JB):                6.578\n",
       "Skew:                           0.405   Prob(JB):                       0.0373\n",
       "Kurtosis:                       4.582   Cond. No.                         4.19\n",
       "==============================================================================\n",
       "\n",
       "Notes:\n",
       "[1] Standard Errors assume that the covariance matrix of the errors is correctly specified.\n",
       "\"\"\""
      ]
     },
     "execution_count": 16,
     "metadata": {},
     "output_type": "execute_result"
    }
   ],
   "source": [
    "x = sm.add_constant(x)\n",
    "\n",
    "result = sm.OLS(y, x).fit()\n",
    "\n",
    "result.summary()"
   ]
  },
  {
   "cell_type": "markdown",
   "id": "caf30120",
   "metadata": {},
   "source": [
    "To avoid some risk of overfitting we can take the simpler regression above and take the function to be \n",
    "\n",
    "\n",
    ">f_xy ~ \t0.6011/sqrt(x^2+y^2)\n",
    ">\n",
    ">\n",
    ">with a significant R value and p-value < 0.001.\n",
    "\n",
    "\n",
    "#### (c)(i) Find the PDF of W = Y/X"
   ]
  },
  {
   "cell_type": "code",
   "execution_count": 19,
   "id": "4734c5e6",
   "metadata": {
    "scrolled": true
   },
   "outputs": [
    {
     "name": "stdout",
     "output_type": "stream",
     "text": [
      "PDF of W:\n",
      "          2   \n",
      "  0.6011⋅x    \n",
      "──────────────\n",
      "     _________\n",
      "    ╱  2    2 \n",
      "y⋅╲╱  x  + y  \n"
     ]
    }
   ],
   "source": [
    "import sympy as sp\n",
    "\n",
    "# Define symbols\n",
    "x, y, w = sp.symbols('x y w', real=True, positive=True)\n",
    "\n",
    "# Define the joint PDF function\n",
    "f_xy = 0.6011 / sp.sqrt(x**2 + y**2)\n",
    "\n",
    "# Define the transformation function\n",
    "W = y / x\n",
    "\n",
    "# Perform the transformation\n",
    "f_W = f_xy.subs(y, W*x) / sp.Abs(sp.diff(W, x))\n",
    "\n",
    "# Print the result\n",
    "print(\"PDF of W:\")\n",
    "sp.pprint(f_W.simplify())"
   ]
  },
  {
   "cell_type": "markdown",
   "id": "ac178550",
   "metadata": {},
   "source": [
    "#### (c)(ii) Find P(X < Y)\n",
    "Since W = Y/X,\n",
    "\n",
    "\n",
    "Then X < Y ==> W > 1 \n",
    "\n",
    "\n",
    "and we will find CDF of P(W>1)"
   ]
  },
  {
   "cell_type": "code",
   "execution_count": 20,
   "id": "a5f60967",
   "metadata": {
    "scrolled": false
   },
   "outputs": [
    {
     "data": {
      "image/png": "[encoded data removed]",
      "text/plain": [
       "<Figure size 640x480 with 1 Axes>"
      ]
     },
     "metadata": {},
     "output_type": "display_data"
    }
   ],
   "source": [
    "# Define the range of w values\n",
    "w_values = np.linspace(-10, 10, 1000)  # Adjust the range as needed\n",
    "\n",
    "# Define the PDF function for W\n",
    "def f_W(w):\n",
    "    return 0.6011 / np.sqrt(1 + w**2)\n",
    "\n",
    "# Evaluate the PDF values for the range of w values\n",
    "pdf_values = f_W(w_values)\n",
    "\n",
    "# Plot the PDF\n",
    "plt.plot(w_values, pdf_values)\n",
    "plt.xlabel('w')\n",
    "plt.ylabel('Probability Density')\n",
    "plt.title('PDF of W')\n",
    "plt.grid(True)\n",
    "plt.show()"
   ]
  },
  {
   "cell_type": "code",
   "execution_count": 21,
   "id": "d1e829bb",
   "metadata": {
    "scrolled": false
   },
   "outputs": [
    {
     "name": "stdout",
     "output_type": "stream",
     "text": [
      "P(W > 1): oo\n"
     ]
    }
   ],
   "source": [
    "# Define symbols\n",
    "w = sp.symbols('w', real=True, positive=True)\n",
    "\n",
    "# Define the PDF function for W\n",
    "f_W = 0.6011 / sp.sqrt(1 + w**2)\n",
    "\n",
    "# Compute the probability P(W > 1)\n",
    "probability = sp.integrate(f_W, (w, 1, sp.oo))\n",
    "\n",
    "# Print the result\n",
    "print(\"P(W > 1):\", probability.evalf())"
   ]
  },
  {
   "cell_type": "code",
   "execution_count": 22,
   "id": "0e4068b2",
   "metadata": {},
   "outputs": [
    {
     "name": "stdout",
     "output_type": "stream",
     "text": [
      "P(0 < W < 1): 0.529793663157447\n"
     ]
    }
   ],
   "source": [
    "# Compute the probability P(0 < W < 1)\n",
    "probability = sp.integrate(f_W, (w, 0, 1))\n",
    "\n",
    "# Print the result\n",
    "print(\"P(0 < W < 1):\", probability.evalf())"
   ]
  },
  {
   "cell_type": "markdown",
   "id": "9f53a762",
   "metadata": {},
   "source": [
    ">The integral of the function is not 1, indicating it is not a valid PDF. This may be due to incorrect estimate of f_xy. Otherwise current function of W still requires normalisation so that CDF of -oo to oo is 1\n",
    "\n",
    "\n",
    ">However, if the distribution was symmetric and centralised around W = 0, then we can assume 50% CDP on the right then deduct P(0<W<1) to get P(W>1) == P(X<Y)."
   ]
  },
  {
   "cell_type": "markdown",
   "id": "ef710c0e",
   "metadata": {},
   "source": [
    "### Question 2\n",
    "#### (a)(i) Use Majority Voting to find the expected error rate of the ensemble\n",
    "Some definitions:\n",
    "- Error rate is all misclassified datapoints over all predictions. Error rate = 1 - accuracy = FP + FN) / (TP + TN + FP + FN)\n",
    "- Majority Voting for same dataset, each algorithms predicts and casts  votes of outcome with final prediction determined by the majority's decision.\n",
    "\n",
    "\n",
    "We can calculate probability of all erroneous scenarios occuring assuming predictors are independent by calculating the cumulative probability of all erroneous permutations (or all the ways the ensemble predictor is incorrect). \n",
    "\n",
    "\n",
    "Predictor = (P1, P2, P3) and where 0 = incorrect, 1 = correct,\n",
    "\n",
    "    Universe of outcomes = {\n",
    "    (0, 0, 0)\n",
    "    (0, 0, 1)\n",
    "    (0, 1, 0)\n",
    "    (0, 1, 1)\n",
    "    (1, 0, 0)\n",
    "    (1, 0, 1)\n",
    "    (1, 1, 0)\n",
    "    (1, 1, 1)\n",
    "    }\n",
    "\n",
    "\n",
    "    there are 4 scenarios out of 8 lead to erroneous results \n",
    "    {(0, 0, 0)\n",
    "    (0, 0, 1)\n",
    "    (0, 1, 0)\n",
    "    (1, 0, 0)}"
   ]
  },
  {
   "cell_type": "code",
   "execution_count": 23,
   "id": "b7d133eb",
   "metadata": {},
   "outputs": [
    {
     "name": "stdout",
     "output_type": "stream",
     "text": [
      "   C1  C2  C3   p1   p2   p3  perror\n",
      "0   0   0   0  0.1  0.3  0.3   0.009\n",
      "1   0   0   1  0.1  0.3  0.7   0.021\n",
      "2   0   1   0  0.1  0.7  0.3   0.021\n",
      "3   1   0   0  0.9  0.3  0.3   0.081\n",
      "\n",
      "\n",
      "Expected error rate of the ensemble:       13.2%\n"
     ]
    }
   ],
   "source": [
    "# Define the data\n",
    "data = [(0, 0, 0), (0, 0, 1), (0, 1, 0), (1, 0, 0)]\n",
    "\n",
    "# Create a DataFrame\n",
    "df = pd.DataFrame(data, columns=['C1', 'C2', 'C3'])\n",
    "\n",
    "# Define the constants\n",
    "error_rates = [0.1, 0.3, 0.3]\n",
    "\n",
    "# Apply transformations\n",
    "for i, col in enumerate(df.columns):\n",
    "    df[f'New_{col}'] = df[col].apply(\n",
    "        lambda x: error_rates[i] if x == 0 else x * (1 - error_rates[i]))\n",
    "\n",
    "df.columns = ['C1', 'C2', 'C3', 'p1', 'p2', 'p3']\n",
    "\n",
    "# Find joint probabilities of incorrect prediction\n",
    "df['perror'] = df.p1*df.p2*df.p3\n",
    "\n",
    "print(df)\n",
    "print(f'\\n\\nExpected error rate of the ensemble: \\\n",
    "      {df.perror.sum()*100:.1f}%')"
   ]
  },
  {
   "cell_type": "markdown",
   "id": "3171faad",
   "metadata": {},
   "source": [
    "> The ensemble error rate is less than either predictor 2 or 3 but more than predictor 1. There is a small chance all 3 predictors are wrong (at 0.9%) but cases where only 2 are wrong cumulates error more than 12%.\n",
    "\n",
    "#### (a)(ii) and show the error propagation diagrammatically"
   ]
  },
  {
   "cell_type": "code",
   "execution_count": 24,
   "id": "f832555d",
   "metadata": {},
   "outputs": [
    {
     "name": "stdout",
     "output_type": "stream",
     "text": [
      "       p1   p2   p3  ensemble\n",
      "0     1.0  0.0  0.0       0.0\n",
      "1     1.0  1.0  1.0       1.0\n",
      "2     1.0  1.0  1.0       1.0\n",
      "3     1.0  1.0  1.0       1.0\n",
      "4     1.0  1.0  1.0       1.0\n",
      "...   ...  ...  ...       ...\n",
      "9995  1.0  1.0  1.0       1.0\n",
      "9996  1.0  1.0  0.0       1.0\n",
      "9997  1.0  0.0  1.0       1.0\n",
      "9998  1.0  1.0  1.0       1.0\n",
      "9999  1.0  0.0  0.0       0.0\n",
      "\n",
      "[10000 rows x 4 columns]\n"
     ]
    }
   ],
   "source": [
    "# Define the constants\n",
    "likelihood_of_error = [0.1, 0.3, 0.3]\n",
    "\n",
    "# Generate random samples\n",
    "samples = np.zeros((10_000, 3))\n",
    "\n",
    "for i, prob in enumerate(likelihood_of_error):\n",
    "    samples[:, i] = np.random.choice([0, 1], size=10_000, p=[prob, 1 - prob])\n",
    "\n",
    "# Create a DataFrame from the samples\n",
    "df = pd.DataFrame(samples, columns=['p1', 'p2', 'p3'])\n",
    "\n",
    "# Calculate the mode of the first three columns\n",
    "df['ensemble'] = df[['p1', 'p2', 'p3']].mode(axis=1)\n",
    "\n",
    "# Print the DataFrame with the prediction column\n",
    "print(df)\n"
   ]
  },
  {
   "cell_type": "code",
   "execution_count": 25,
   "id": "e8ec9781",
   "metadata": {},
   "outputs": [],
   "source": [
    "errors = 1-df.mean()"
   ]
  },
  {
   "cell_type": "code",
   "execution_count": 26,
   "id": "2b509b6d",
   "metadata": {},
   "outputs": [
    {
     "data": {
      "image/png": "[encoded data removed]",
      "text/plain": [
       "<Figure size 640x480 with 1 Axes>"
      ]
     },
     "metadata": {},
     "output_type": "display_data"
    }
   ],
   "source": [
    "sns.barplot(x=errors.index, y=errors.values)\n",
    "plt.title('Error Rates of 3 classifiers and Ensemble');"
   ]
  },
  {
   "cell_type": "code",
   "execution_count": 22,
   "id": "ab84f55a",
   "metadata": {},
   "outputs": [
    {
     "data": {
      "text/plain": [
       "p1          0.1038\n",
       "p2          0.3014\n",
       "p3          0.2911\n",
       "ensemble    0.1306\n",
       "dtype: float64"
      ]
     },
     "execution_count": 22,
     "metadata": {},
     "output_type": "execute_result"
    }
   ],
   "source": [
    "errors"
   ]
  },
  {
   "cell_type": "markdown",
   "id": "ac993376",
   "metadata": {},
   "source": [
    "C1 --> p1 | \n",
    "C2 --> p2 | \n",
    "C3 --> p3 \n",
    "\n",
    "\n",
    "mode(p1, p2, p3) --> prediction\n",
    "\n",
    "---\n",
    "\n",
    "#### (b) What can be inferred if the assumption of independence is relaxed on the errors\n",
    "\n",
    "\n",
    "If that is the case then calculations in part A do not apply and the error rate of the ensemble is best to be taken stochastically. Below are the reasons that the analysis does not hold:\n",
    "1. conditional probability of an error scenario is not the product of the error rates for each predictor. E.g. for (1, 0, 0) error rate of 0.9*0.3*0.3 is not relevant. This is because in each prediction, the outcome of one predictor will affect another so the expected error rates are not expected to remain as stated.\n",
    "2. In ii we assumed the rate of each predictor remains the same throughout the experiment. However with dependency, this assumption does not hold, so we cannot use the given error rates and more data (on independent variables) is needed to estimated the expected rate of error in each scenario.\n",
    "\n",
    "Confounding: If error rates of any predictor is conditional on the error of another predictor then the error rate of the ensemble is not determined by the predictors independently. When calculating the ensemble error rate above, we took the assumption that all predictors are independent. Since an error of a predictor can effect BOTH the error in another predictor and our computation of ensemble error then it is confounding.\n",
    "\n",
    "\n",
    "Autocorrelation: If errors are correlated over time (autocorrelation), it indicates that the current error term is related to the past error terms. This violates the assumption of independence in time series data and may require time series modeling techniques to account for the autocorrelation structure.\n",
    "\n",
    "\n",
    "\n",
    "\n",
    "> In conclusion the accuracy of the model cannot be explained with aggregated accuracy and precision using only the individual predictor error rates. To make the existing model to be applicable, there must be sufficient large sample dataset to represent the population and universe of permutations. Or the predictive capability must be limited a known set of range of dependent variables before error rates and accuracy can be taken at face value. Else the model must consider each individual predictor as independent variables also. The easiest alternative would be to run experiments with dependent variables within the test universe then compute the error of the ensemble instead. This will give the stochastic error within the relevant case scenarios applicable.\n",
    "\n",
    "---"
   ]
  },
  {
   "cell_type": "markdown",
   "id": "79e5feed",
   "metadata": {},
   "source": [
    "### Question 3"
   ]
  },
  {
   "cell_type": "code",
   "execution_count": 27,
   "id": "c45f3401",
   "metadata": {},
   "outputs": [
    {
     "data": {
      "text/html": [
       "<div>\n",
       "<style scoped>\n",
       "    .dataframe tbody tr th:only-of-type {\n",
       "        vertical-align: middle;\n",
       "    }\n",
       "\n",
       "    .dataframe tbody tr th {\n",
       "        vertical-align: top;\n",
       "    }\n",
       "\n",
       "    .dataframe thead th {\n",
       "        text-align: right;\n",
       "    }\n",
       "</style>\n",
       "<table border=\"1\" class=\"dataframe\">\n",
       "  <thead>\n",
       "    <tr style=\"text-align: right;\">\n",
       "      <th></th>\n",
       "      <th>x1</th>\n",
       "      <th>x2</th>\n",
       "      <th>x3</th>\n",
       "      <th>x4</th>\n",
       "      <th>y</th>\n",
       "    </tr>\n",
       "  </thead>\n",
       "  <tbody>\n",
       "    <tr>\n",
       "      <th>0</th>\n",
       "      <td>s</td>\n",
       "      <td>42.5</td>\n",
       "      <td>n</td>\n",
       "      <td>f</td>\n",
       "      <td>n</td>\n",
       "    </tr>\n",
       "    <tr>\n",
       "      <th>1</th>\n",
       "      <td>s</td>\n",
       "      <td>42.5</td>\n",
       "      <td>h</td>\n",
       "      <td>t</td>\n",
       "      <td>n</td>\n",
       "    </tr>\n",
       "    <tr>\n",
       "      <th>2</th>\n",
       "      <td>None</td>\n",
       "      <td>42.5</td>\n",
       "      <td>h</td>\n",
       "      <td>f</td>\n",
       "      <td>y</td>\n",
       "    </tr>\n",
       "    <tr>\n",
       "      <th>3</th>\n",
       "      <td>r</td>\n",
       "      <td>NaN</td>\n",
       "      <td>h</td>\n",
       "      <td>f</td>\n",
       "      <td>y</td>\n",
       "    </tr>\n",
       "    <tr>\n",
       "      <th>4</th>\n",
       "      <td>r</td>\n",
       "      <td>22.8</td>\n",
       "      <td>n</td>\n",
       "      <td>f</td>\n",
       "      <td>y</td>\n",
       "    </tr>\n",
       "    <tr>\n",
       "      <th>5</th>\n",
       "      <td>r</td>\n",
       "      <td>15.4</td>\n",
       "      <td>n</td>\n",
       "      <td>t</td>\n",
       "      <td>n</td>\n",
       "    </tr>\n",
       "  </tbody>\n",
       "</table>\n",
       "</div>"
      ],
      "text/plain": [
       "     x1    x2 x3 x4  y\n",
       "0     s  42.5  n  f  n\n",
       "1     s  42.5  h  t  n\n",
       "2  None  42.5  h  f  y\n",
       "3     r   NaN  h  f  y\n",
       "4     r  22.8  n  f  y\n",
       "5     r  15.4  n  t  n"
      ]
     },
     "execution_count": 27,
     "metadata": {},
     "output_type": "execute_result"
    }
   ],
   "source": [
    "# make train data as df for faster calculations\n",
    "train = [\n",
    "    ('s', 42.5, 'n', 'f', 'n'),\n",
    "    ('s', 42.5, 'h', 't', 'n'),\n",
    "    (None, 42.5, 'h', 'f', 'y'),\n",
    "    ('r', None , 'h', 'f', 'y'),\n",
    "    ('r', 22.8, 'n', 'f', 'y'),\n",
    "    ('r', 15.4, 'n', 't', 'n')\n",
    "]\n",
    "\n",
    "df_train = pd.DataFrame(train, columns=['x1', 'x2', 'x3', 'x4', 'y'])\n",
    "\n",
    "df_train"
   ]
  },
  {
   "cell_type": "markdown",
   "id": "b9aa3a58",
   "metadata": {},
   "source": [
    "# make calculations for the first test data\n",
    "We will take the general Bayes theorem per below\n",
    "![bayes](http://mathurl.com/yd5wgr73.png)\n",
    "\n",
    "![bayes2](https://miro.medium.com/v2/resize:fit:640/format:webp/1*1eTZdwSU6d4ApGNlvp9zHw.png)\n",
    "\n",
    "![bayes3](https://miro.medium.com/v2/resize:fit:640/format:webp/1*7JKaSvDoyQOwGzGqCG-QDQ.png)\n",
    "\n",
    "\n",
    "---\n",
    "    P(X | y=Y) = P(x1 | Y) X P(x2 | Y) X P(x3 | Y) X P(x4 | Y)\n",
    "\n",
    "---\n",
    "\n",
    "##### For first test data x = ('o', 25.0, 'n', 't')\n",
    "\n",
    "We calculate for both outcomes 'y' and 'n'. `x1=O` is not present. We will add [pseudocount](https://en.wikipedia.org/wiki/Naive_Bayes_classifier#:~:text=incorporate%20a%20small%2Dsample%20correction%2C%20called%20pseudocount%2C%20in%20all%20probability%20estimates%20such%20that%20no%20probability%20is%20ever%20set%20to%20be%20exactly%20zero.%20This%20way%20of%20regularizing%20naive%20Bayes%20is%20called%20Laplace%20smoothing%20when%20the%20pseudocount%20is%20one%2C%20and%20Lidstone%20smoothing%20in%20the%20general%20case.) to incorporate a small-sample correction, called pseudocount, in all probability estimates such that no probability is ever set to be exactly zero. This way of regularizing naive Bayes is called Laplace smoothing when the pseudocount is one, and Lidstone smoothing in the general case.\n",
    "\n",
    "\n",
    "     P(X|y=Y) = P(x1='o'|Y) \n",
    "                X P(x2=25.0|Y) \n",
    "                X P(x3='n'|Y) \n",
    "                X P(x4='t'|Y)\n",
    "                \n",
    "                \n",
    "\n",
    "- `P(x1='o'|Y)` = 1/5    # 1 'o', 1 's', 3 'r'\n",
    "- `P(x2=25.0|Y)` = 0.0246 (computation further below)\n",
    "- `P(x3='n'|Y)` = 2/5    # 2 'n', 3 'h'\n",
    "- `P(x4='t'|Y)` = 1/5    # 4 'f', 1 't'\n",
    "              \n",
    "              \n",
    "              \n",
    "                \n",
    "        P(X|y=N) = P(x1='o'|N) \n",
    "                X P(x2=25.0|N) \n",
    "                X P(x3='n'|N) \n",
    "                X P(x4='t'|N)\n",
    "\n",
    "\n",
    "\n",
    "- `P(x1='o'|N)` = 1/6    # 1 'o', 3 's', 2'r'\n",
    "- `P(x2=25.0|N)` = 0.0220 (computation further below)\n",
    "- `P(x3='n'|N)` = 2/5    # 3 'n', 2 'h'\n",
    "- `P(x4='t'|N)` = 3/5    # 3 't', 2 'f'"
   ]
  },
  {
   "cell_type": "code",
   "execution_count": 28,
   "id": "71c5ceeb",
   "metadata": {},
   "outputs": [
    {
     "data": {
      "text/html": [
       "<div>\n",
       "<style scoped>\n",
       "    .dataframe tbody tr th:only-of-type {\n",
       "        vertical-align: middle;\n",
       "    }\n",
       "\n",
       "    .dataframe tbody tr th {\n",
       "        vertical-align: top;\n",
       "    }\n",
       "\n",
       "    .dataframe thead th {\n",
       "        text-align: right;\n",
       "    }\n",
       "</style>\n",
       "<table border=\"1\" class=\"dataframe\">\n",
       "  <thead>\n",
       "    <tr style=\"text-align: right;\">\n",
       "      <th></th>\n",
       "      <th>x1</th>\n",
       "      <th>x2</th>\n",
       "      <th>x3</th>\n",
       "      <th>x4</th>\n",
       "      <th>y</th>\n",
       "    </tr>\n",
       "  </thead>\n",
       "  <tbody>\n",
       "    <tr>\n",
       "      <th>2</th>\n",
       "      <td>None</td>\n",
       "      <td>42.5</td>\n",
       "      <td>h</td>\n",
       "      <td>f</td>\n",
       "      <td>y</td>\n",
       "    </tr>\n",
       "    <tr>\n",
       "      <th>3</th>\n",
       "      <td>r</td>\n",
       "      <td>NaN</td>\n",
       "      <td>h</td>\n",
       "      <td>f</td>\n",
       "      <td>y</td>\n",
       "    </tr>\n",
       "    <tr>\n",
       "      <th>4</th>\n",
       "      <td>r</td>\n",
       "      <td>22.8</td>\n",
       "      <td>n</td>\n",
       "      <td>f</td>\n",
       "      <td>y</td>\n",
       "    </tr>\n",
       "  </tbody>\n",
       "</table>\n",
       "</div>"
      ],
      "text/plain": [
       "     x1    x2 x3 x4  y\n",
       "2  None  42.5  h  f  y\n",
       "3     r   NaN  h  f  y\n",
       "4     r  22.8  n  f  y"
      ]
     },
     "execution_count": 28,
     "metadata": {},
     "output_type": "execute_result"
    }
   ],
   "source": [
    "df_train[df_train['y']=='y']"
   ]
  },
  {
   "cell_type": "code",
   "execution_count": 29,
   "id": "4d4df35f",
   "metadata": {},
   "outputs": [
    {
     "data": {
      "text/html": [
       "<div>\n",
       "<style scoped>\n",
       "    .dataframe tbody tr th:only-of-type {\n",
       "        vertical-align: middle;\n",
       "    }\n",
       "\n",
       "    .dataframe tbody tr th {\n",
       "        vertical-align: top;\n",
       "    }\n",
       "\n",
       "    .dataframe thead th {\n",
       "        text-align: right;\n",
       "    }\n",
       "</style>\n",
       "<table border=\"1\" class=\"dataframe\">\n",
       "  <thead>\n",
       "    <tr style=\"text-align: right;\">\n",
       "      <th></th>\n",
       "      <th>x1</th>\n",
       "      <th>x2</th>\n",
       "      <th>x3</th>\n",
       "      <th>x4</th>\n",
       "      <th>y</th>\n",
       "    </tr>\n",
       "  </thead>\n",
       "  <tbody>\n",
       "    <tr>\n",
       "      <th>0</th>\n",
       "      <td>s</td>\n",
       "      <td>42.5</td>\n",
       "      <td>n</td>\n",
       "      <td>f</td>\n",
       "      <td>n</td>\n",
       "    </tr>\n",
       "    <tr>\n",
       "      <th>1</th>\n",
       "      <td>s</td>\n",
       "      <td>42.5</td>\n",
       "      <td>h</td>\n",
       "      <td>t</td>\n",
       "      <td>n</td>\n",
       "    </tr>\n",
       "    <tr>\n",
       "      <th>5</th>\n",
       "      <td>r</td>\n",
       "      <td>15.4</td>\n",
       "      <td>n</td>\n",
       "      <td>t</td>\n",
       "      <td>n</td>\n",
       "    </tr>\n",
       "  </tbody>\n",
       "</table>\n",
       "</div>"
      ],
      "text/plain": [
       "  x1    x2 x3 x4  y\n",
       "0  s  42.5  n  f  n\n",
       "1  s  42.5  h  t  n\n",
       "5  r  15.4  n  t  n"
      ]
     },
     "execution_count": 29,
     "metadata": {},
     "output_type": "execute_result"
    }
   ],
   "source": [
    " df_train[df_train['y']=='n']"
   ]
  },
  {
   "cell_type": "code",
   "execution_count": 30,
   "id": "b408f706",
   "metadata": {},
   "outputs": [
    {
     "data": {
      "text/plain": [
       "(0.02463025322518082, 0.022024970873542677)"
      ]
     },
     "execution_count": 30,
     "metadata": {},
     "output_type": "execute_result"
    }
   ],
   "source": [
    "# finding mean and variance of x2 when y='y'\n",
    "# ignoe NaN values during calculation\n",
    "x2_mean_y = df_train[df_train['y']=='y']['x2'].mean()\n",
    "x2_var_y = df_train[df_train['y']=='y']['x2'].var()\n",
    "\n",
    "# finding mean and variance of x2 when y='n'\n",
    "x2_mean_n = df_train[df_train['y']=='n']['x2'].mean()\n",
    "x2_var_n = df_train[df_train['y']=='n']['x2'].var()\n",
    "\n",
    "# finding conditional Gaussian probability for test1\n",
    "# using the above means and vars\n",
    "p_x2_y_test1 = 1 / np.sqrt(2 * np.pi * x2_var_y) * \\\n",
    "                np.exp(-(25 - x2_mean_y) ** 2 / (2 * x2_var_y))\n",
    "p_x2_n_test1 = 1 / np.sqrt(2 * np.pi * x2_var_n) * \\\n",
    "                np.exp(-(25 - x2_mean_n) ** 2 / (2 * x2_var_n))\n",
    "p_x2_y_test1, p_x2_n_test1"
   ]
  },
  {
   "cell_type": "code",
   "execution_count": 31,
   "id": "1958152b",
   "metadata": {},
   "outputs": [
    {
     "data": {
      "text/plain": [
       "(0.00019704202580144654, 0.00044049941747085347)"
      ]
     },
     "execution_count": 31,
     "metadata": {},
     "output_type": "execute_result"
    }
   ],
   "source": [
    "# calculating P(X|y=Y), P(X|y=N) for test1\n",
    "p_x_y_test1 = 1/5 * p_x2_y_test1 * 2/5 * 1/5\n",
    "p_x_n_test1 = 1/6 * p_x2_n_test1 * 2/5 * 3/5\n",
    "\n",
    "# multiply by prior and compare P(X|y=Y) to P(X|y=N)\n",
    "p_x_y_test1*3/6, p_x_n_test1*3/6"
   ]
  },
  {
   "cell_type": "markdown",
   "id": "3fd83497",
   "metadata": {},
   "source": [
    "> Since `P(X|Y) * P(Y) < P(X|N) * P(N)`, \n",
    ">\n",
    ">\n",
    ">Then predict that the first test term will be `N`"
   ]
  },
  {
   "cell_type": "markdown",
   "id": "0ec688e6",
   "metadata": {},
   "source": [
    "##### For second test data x = ('s', 36.4, None, 'f')\n",
    "\n",
    "We calculate for both outcomes 'y' and 'n'. We remove `x3` since there is no value and no information can be taken from that variable.\n",
    "\n",
    "     P(X|y=Y) = P(x1='s'|Y) \n",
    "                X P(x2=36.4|Y) \n",
    "                X P(x4='f'|Y)\n",
    "                \n",
    "\n",
    "- `P(x1='s'|Y)` = 1/5    # 1 'o', 1 's', 3 'r'\n",
    "- `P(x2=36.4|Y)` = 0.0276 (computation further below)\n",
    "- `P(x4='f'|Y)` = 4/5    # 4 'f', 1 't'\n",
    "              \n",
    "              \n",
    "              \n",
    "\n",
    "         P(X|y=N) = P(x1='s'|N) \n",
    "                    X P(x2=36.4|N) \n",
    "                    X P(x4='f'|N)\n",
    "\n",
    "\n",
    "\n",
    "- `P(x1='s'|N)` = 3/6    # 1 'o', 3 's', 2 'r'\n",
    "- `P(x2=36.4|N)` = 0.0251 (computation further below)\n",
    "- `P(x4='f'|N)` = 2/5    # 3 't', 2 'f'"
   ]
  },
  {
   "cell_type": "code",
   "execution_count": 32,
   "id": "5e420c3c",
   "metadata": {},
   "outputs": [
    {
     "data": {
      "text/plain": [
       "(0.027619900587299257, 0.025053535726665115)"
      ]
     },
     "execution_count": 32,
     "metadata": {},
     "output_type": "execute_result"
    }
   ],
   "source": [
    "# finding conditional Gaussian probability for test2\n",
    "p_x2_y_test2 = 1 / np.sqrt(2 * np.pi * x2_var_y) * \\\n",
    "                np.exp(-(36.4 - x2_mean_y) ** 2 / (2 * x2_var_y))\n",
    "p_x2_n_test2 = 1 / np.sqrt(2 * np.pi * x2_var_n) * \\\n",
    "                np.exp(-(36.4 - x2_mean_n) ** 2 / (2 * x2_var_n))\n",
    "p_x2_y_test2, p_x2_n_test2"
   ]
  },
  {
   "cell_type": "code",
   "execution_count": 33,
   "id": "e65e1d0f",
   "metadata": {},
   "outputs": [
    {
     "data": {
      "text/plain": [
       "(0.002209592046983941, 0.0025053535726665115)"
      ]
     },
     "execution_count": 33,
     "metadata": {},
     "output_type": "execute_result"
    }
   ],
   "source": [
    "# calculating P(X|y=Y),P(X|y=N) for test2\n",
    "p_x_y_test2 = 1/5 * p_x2_y_test2 * 4/5\n",
    "p_x_n_test2 = 3/6 * p_x2_n_test2 * 2/5\n",
    "\n",
    "# multiply by prior and compare P(X|y=Y) to P(X|y=N)\n",
    "p_x_y_test2*3/6, p_x_n_test2*3/6"
   ]
  },
  {
   "cell_type": "markdown",
   "id": "70cdc584",
   "metadata": {},
   "source": [
    "> Since `P(X|Y) * P(Y) < P(X|N) * P(N)`, \n",
    "> \n",
    "> \n",
    "> Then predict that the second test term will be `N`\n",
    "\n",
    "---"
   ]
  },
  {
   "cell_type": "markdown",
   "id": "9b48f088",
   "metadata": {},
   "source": [
    "### Question 4\n",
    "\n",
    "(a) Write `get_indices`"
   ]
  },
  {
   "cell_type": "code",
   "execution_count": 111,
   "id": "62a5e38d",
   "metadata": {},
   "outputs": [],
   "source": [
    "data_a = [('id1', 'addr1', 'pw1'), ('idz', 'addrz', 'pwz'), ('idx', 'addr1', 'pwx'), ('idy', 'addry', 'pwx')]"
   ]
  },
  {
   "cell_type": "code",
   "execution_count": 112,
   "id": "f7ed68fd",
   "metadata": {},
   "outputs": [
    {
     "data": {
      "text/plain": [
       "[('id1', 'addr1', 'pw1'),\n",
       " ('idz', 'addrz', 'pwz'),\n",
       " ('idx', 'addr1', 'pwx'),\n",
       " ('idy', 'addry', 'pwx')]"
      ]
     },
     "execution_count": 112,
     "metadata": {},
     "output_type": "execute_result"
    }
   ],
   "source": [
    "data_a"
   ]
  },
  {
   "cell_type": "code",
   "execution_count": 126,
   "id": "c29b86a9",
   "metadata": {},
   "outputs": [],
   "source": [
    "def get_indices(data: list) -> list:\n",
    "    \"\"\"\n",
    "    Takes a list of tuples and returns a 2D list of indices.\n",
    "    Each sub-list corresponds to the indices of all rows pointing to the same person.\n",
    "    Rows point to the same person if any of their column entries are the same.\n",
    "\n",
    "    Parameters\n",
    "    ----------\n",
    "    data : list of tuples\n",
    "        The input data where each tuple represents a row.\n",
    "\n",
    "    Returns\n",
    "    -------\n",
    "    list\n",
    "        A 2D list of indices where each sub-list contains indices of rows pointing\n",
    "        to the same person.\n",
    "\n",
    "    Complexity\n",
    "    ----------\n",
    "    Time: O(n*m^2) where n is the number of rows and m is the average length of a row.\n",
    "    Space: O(n*m) where n is the number of rows and m is the average length of a row.\n",
    "\n",
    "    Raises\n",
    "    ------\n",
    "    ValueError\n",
    "        If the input data is empty.\n",
    "        If any tuple contains null or empty values.\n",
    "\n",
    "    \"\"\"\n",
    "    if not data:\n",
    "        raise ValueError(\"Input data cannot be empty\")\n",
    "\n",
    "    for row in data:\n",
    "        if any(value is None or value == \"\" for value in row):\n",
    "            raise ValueError(\"Tuples in input data cannot contain null or empty values\")\n",
    "\n",
    "    value_sets = []\n",
    "    row_sets = []\n",
    "\n",
    "    # Collect all distinct values for each column into `value_sets`\n",
    "    # Collect all row indices with the same values in a column into `row_sets`\n",
    "    for col in range(len(data[0])):\n",
    "        temp1 = set()\n",
    "        for row in range(len(data)):\n",
    "            temp1.add(data[row][col])\n",
    "        value_sets.append(temp1)\n",
    "\n",
    "        for value in temp1:\n",
    "            temp2 = set()\n",
    "            for row in range(len(data)):\n",
    "                if data[row][col] == value:\n",
    "                    temp2.add(row)\n",
    "            if temp2 not in row_sets:\n",
    "                row_sets.append(temp2)\n",
    "\n",
    "    # Reduce `row_sets` by joining sets that intersect\n",
    "    reduced_sets = row_sets\n",
    "\n",
    "    while sum(len(s) for s in reduced_sets) > len(data):  # check if fully reduced\n",
    "        tmp1 = reduced_sets[:]\n",
    "        reduced_sets = []\n",
    "        for s in tmp1:\n",
    "            joined = False\n",
    "            for r in reduced_sets:\n",
    "                if r.intersection(s):\n",
    "                    r.update(s)\n",
    "                    joined = True\n",
    "                    break\n",
    "            if not joined:\n",
    "                reduced_sets.append(s)\n",
    "\n",
    "    return reduced_sets\n"
   ]
  },
  {
   "cell_type": "code",
   "execution_count": 128,
   "id": "ed471c36",
   "metadata": {
    "scrolled": true
   },
   "outputs": [
    {
     "data": {
      "text/plain": [
       "[{0, 2, 3}, {1}]"
      ]
     },
     "execution_count": 128,
     "metadata": {},
     "output_type": "execute_result"
    }
   ],
   "source": [
    "get_indices(data_a)"
   ]
  },
  {
   "cell_type": "code",
   "execution_count": 119,
   "id": "b647f458",
   "metadata": {},
   "outputs": [
    {
     "name": "stdout",
     "output_type": "stream",
     "text": [
      "0.3333333333333333\n"
     ]
    }
   ],
   "source": [
    "def calculate_similarity(data: list, column_index: int) -> float:\n",
    "    \"\"\"\n",
    "    Calculates the maximum similarity score between strings in the specified column.\n",
    "\n",
    "    Parameters\n",
    "    ----------\n",
    "    data : list of tuples\n",
    "        Input data where each tuple represents a row.\n",
    "    column_index : int\n",
    "        Index of the column of interest.\n",
    "\n",
    "    Returns\n",
    "    -------\n",
    "    float\n",
    "        Maximum similarity score between strings in the specified column.\n",
    "\n",
    "    Example\n",
    "    -------\n",
    "    data = [('apple', 'banana'), ('orange', 'grape')]\n",
    "    column_index = 0\n",
    "    similarity_score = calculate_similarity(data, column_index)\n",
    "    print(similarity_score)  # Output: 0.5\n",
    "\n",
    "    Complexity\n",
    "    ----------\n",
    "    Time: O(n * m), where n is the number of rows and m is the average length of strings in the column.\n",
    "    Space: O(1)\n",
    "    \"\"\"\n",
    "    if not data:\n",
    "        raise ValueError(\"Input data cannot be empty\")\n",
    "    if not 0 <= column_index < len(data[0]):\n",
    "        raise ValueError(\"Invalid column index\")\n",
    "\n",
    "    max_similarity = 0.0\n",
    "    for row in data:\n",
    "        str1, str2 = row[column_index], row[column_index + 1]\n",
    "        longer_str = max(str1, str2, key=len)\n",
    "        shorter_str = min(str1, str2, key=len)\n",
    "        longer_length = len(longer_str)\n",
    "\n",
    "        # Calculate similarity score\n",
    "        similarity = sum(1 for a, b in zip(longer_str, shorter_str) if a == b) / longer_length\n",
    "        max_similarity = max(max_similarity, similarity)\n",
    "\n",
    "    return max_similarity\n",
    "\n",
    "\n",
    "# Example usage:\n",
    "data = [('apple', 'banana'), ('orange', 'grape')]\n",
    "column_index = 0\n",
    "similarity_score = calculate_similarity(data, column_index)\n",
    "print(similarity_score)  # Output: 0.5\n"
   ]
  },
  {
   "cell_type": "code",
   "execution_count": 119,
   "id": "c91dd297",
   "metadata": {},
   "outputs": [
    {
     "name": "stdout",
     "output_type": "stream",
     "text": [
      "0.3333333333333333\n"
     ]
    }
   ],
   "source": [
    "def similarity_score(str1: str, str2: str) -> float:\n",
    "    \"\"\"\n",
    "    Calculates the maximum similarity score between two strings.\n",
    "\n",
    "    Parameters\n",
    "    ----------\n",
    "    \n",
    "\n",
    "    Returns\n",
    "    -------\n",
    "    float\n",
    "        Maximum similarity score between two strings\n",
    "\n",
    "    Complexity\n",
    "    ----------\n",
    "    \n",
    "    \"\"\"\n",
    "    \n",
    "\n",
    "    return max_similarity\n",
    "\n",
    "\n",
    "# Example usage:\n",
    "similarity_score(\"quiet_otter\", \"otter_quiet\")"
   ]
  },
  {
   "cell_type": "code",
   "execution_count": 120,
   "id": "e81049f8",
   "metadata": {},
   "outputs": [],
   "source": [
    "data_b = [('id1', 'name1', 'pw1'), ('id1', 'name2', 'pw2'), ('id3', 'name3', 'pw3'), ('id3', 'name4', 'ppp')]"
   ]
  },
  {
   "cell_type": "code",
   "execution_count": 121,
   "id": "3018a95d",
   "metadata": {},
   "outputs": [
    {
     "ename": "IndexError",
     "evalue": "tuple index out of range",
     "output_type": "error",
     "traceback": [
      "\u001b[0;31m---------------------------------------------------------------------------\u001b[0m",
      "\u001b[0;31mIndexError\u001b[0m                                Traceback (most recent call last)",
      "\u001b[0;32m/var/folders/h2/r7qn2m9n1zb6y_0q191gdqth0000gn/T/ipykernel_53544/2017790986.py\u001b[0m in \u001b[0;36m<module>\u001b[0;34m\u001b[0m\n\u001b[0;32m----> 1\u001b[0;31m \u001b[0mcalculate_similarity\u001b[0m\u001b[0;34m(\u001b[0m\u001b[0mdata_b\u001b[0m\u001b[0;34m,\u001b[0m \u001b[0;36m2\u001b[0m\u001b[0;34m)\u001b[0m\u001b[0;34m\u001b[0m\u001b[0;34m\u001b[0m\u001b[0m\n\u001b[0m",
      "\u001b[0;32m/var/folders/h2/r7qn2m9n1zb6y_0q191gdqth0000gn/T/ipykernel_53544/330456977.py\u001b[0m in \u001b[0;36mcalculate_similarity\u001b[0;34m(data, column_index)\u001b[0m\n\u001b[1;32m     34\u001b[0m     \u001b[0mmax_similarity\u001b[0m \u001b[0;34m=\u001b[0m \u001b[0;36m0.0\u001b[0m\u001b[0;34m\u001b[0m\u001b[0;34m\u001b[0m\u001b[0m\n\u001b[1;32m     35\u001b[0m     \u001b[0;32mfor\u001b[0m \u001b[0mrow\u001b[0m \u001b[0;32min\u001b[0m \u001b[0mdata\u001b[0m\u001b[0;34m:\u001b[0m\u001b[0;34m\u001b[0m\u001b[0;34m\u001b[0m\u001b[0m\n\u001b[0;32m---> 36\u001b[0;31m         \u001b[0mstr1\u001b[0m\u001b[0;34m,\u001b[0m \u001b[0mstr2\u001b[0m \u001b[0;34m=\u001b[0m \u001b[0mrow\u001b[0m\u001b[0;34m[\u001b[0m\u001b[0mcolumn_index\u001b[0m\u001b[0;34m]\u001b[0m\u001b[0;34m,\u001b[0m \u001b[0mrow\u001b[0m\u001b[0;34m[\u001b[0m\u001b[0mcolumn_index\u001b[0m \u001b[0;34m+\u001b[0m \u001b[0;36m1\u001b[0m\u001b[0;34m]\u001b[0m\u001b[0;34m\u001b[0m\u001b[0;34m\u001b[0m\u001b[0m\n\u001b[0m\u001b[1;32m     37\u001b[0m         \u001b[0mlonger_str\u001b[0m \u001b[0;34m=\u001b[0m \u001b[0mmax\u001b[0m\u001b[0;34m(\u001b[0m\u001b[0mstr1\u001b[0m\u001b[0;34m,\u001b[0m \u001b[0mstr2\u001b[0m\u001b[0;34m,\u001b[0m \u001b[0mkey\u001b[0m\u001b[0;34m=\u001b[0m\u001b[0mlen\u001b[0m\u001b[0;34m)\u001b[0m\u001b[0;34m\u001b[0m\u001b[0;34m\u001b[0m\u001b[0m\n\u001b[1;32m     38\u001b[0m         \u001b[0mshorter_str\u001b[0m \u001b[0;34m=\u001b[0m \u001b[0mmin\u001b[0m\u001b[0;34m(\u001b[0m\u001b[0mstr1\u001b[0m\u001b[0;34m,\u001b[0m \u001b[0mstr2\u001b[0m\u001b[0;34m,\u001b[0m \u001b[0mkey\u001b[0m\u001b[0;34m=\u001b[0m\u001b[0mlen\u001b[0m\u001b[0;34m)\u001b[0m\u001b[0;34m\u001b[0m\u001b[0;34m\u001b[0m\u001b[0m\n",
      "\u001b[0;31mIndexError\u001b[0m: tuple index out of range"
     ]
    }
   ],
   "source": [
    "calculate_similarity(data_b, 2)"
   ]
  },
  {
   "cell_type": "markdown",
   "id": "c1a2b9a7",
   "metadata": {},
   "source": [
    "### Question 5"
   ]
  }
 ],
 "metadata": {
  "kernelspec": {
   "display_name": "Python 3 (ipykernel)",
   "language": "python",
   "name": "python3"
  },
  "language_info": {
   "codemirror_mode": {
    "name": "ipython",
    "version": 3
   },
   "file_extension": ".py",
   "mimetype": "text/x-python",
   "name": "python",
   "nbconvert_exporter": "python",
   "pygments_lexer": "ipython3",
   "version": "3.9.13"
  }
 },
 "nbformat": 4,
 "nbformat_minor": 5
}
